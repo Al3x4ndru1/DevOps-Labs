{
 "cells": [
  {
   "cell_type": "markdown",
   "metadata": {},
   "source": [
    "# First Lab"
   ]
  },
  {
   "cell_type": "markdown",
   "metadata": {},
   "source": [
    "In this lab we have a set of questions:\n",
    "\n",
    "Write a simple bash script for the following\n",
    "1. Create a folder named DevOps\n",
    "2. Create two files names.txt and names2.txt\n",
    "3. Using the Cat keyword write the names of five of your favourite movies\n",
    "4. Copy the content of the names.txt file into names2.txt\n",
    "5. Change the permissions for the file names.txt to be write only for the user and the rest of\n",
    "the permission levels should be left as it is.\n",
    "6. With the keyword history pass the information of the history into a file called\n",
    "history_bash.txt\n",
    "7. The name of the bash script should be devops.sh\n",
    "8. The bash script for the above should be saved in a directory called devops_bash"
   ]
  },
  {
   "cell_type": "markdown",
   "metadata": {},
   "source": [
    "1. Now let's start with the first one:\n",
    "\n",
    "We have to create a volder named \"DevOps\", so we can use the mkdir command.\n",
    "\n",
    "Mkdir command brifly explained:\n",
    "\n",
    "mkdir [name of the directory that we want to create]"
   ]
  },
  {
   "cell_type": "code",
   "execution_count": null,
   "metadata": {
    "vscode": {
     "languageId": "shellscript"
    }
   },
   "outputs": [],
   "source": [
    "mkdir DevOps"
   ]
  },
  {
   "cell_type": "markdown",
   "metadata": {},
   "source": [
    "2. Second question:\n",
    "\n",
    "We have to create 2 new txt files called: \"names.txt\" and \"names1.txt\".\n",
    "\n",
    "To be able to perform this task, we can use the touch command.\n",
    "\n",
    "Touch command brifly explained:\n",
    "\n",
    "touch [name of the file that we want to create].[the extention]"
   ]
  },
  {
   "cell_type": "code",
   "execution_count": null,
   "metadata": {
    "vscode": {
     "languageId": "shellscript"
    }
   },
   "outputs": [],
   "source": [
    "touch {names,names1}.txt"
   ]
  },
  {
   "cell_type": "markdown",
   "metadata": {},
   "source": [
    "3. Question 3:\n",
    "\n",
    "Now things becomes tricky. Please read again the question. After you read them again, you will be able to see that we need to create a bash scrip, so not just type them into terminal, we have to create a script that can be called and run.\n",
    "\n",
    "As you can see we have to all files in the \"DevOps\" directory, that we are creating. So before we are going to go to step 2 we mut change the current directory. \n",
    "\n",
    "Changing directory:"
   ]
  },
  {
   "cell_type": "code",
   "execution_count": null,
   "metadata": {
    "vscode": {
     "languageId": "shellscript"
    }
   },
   "outputs": [],
   "source": [
    "cd DevOps"
   ]
  },
  {
   "cell_type": "markdown",
   "metadata": {},
   "source": [
    "Now take a few second and think about the \"cat\" command and how it is performed."
   ]
  },
  {
   "cell_type": "markdown",
   "metadata": {},
   "source": [
    "So you can see that the \"cat\" command needs a stop commandin order to execute. In this case, we will stop the entire program which is not a good solution."
   ]
  },
  {
   "cell_type": "markdown",
   "metadata": {},
   "source": [
    "Instead of using cat we will use echo command. There is a difference between cat and echo, both of them can create files, but cat will wait untill will see a stop command input and the data that we want to put inside the file is not prespecified. Cat works like that:\n",
    "\n",
    "{\n",
    "cat [name of the file] // press enter to run the command\n",
    "\n",
    "Some txt that the new will have in it\n",
    "}\n",
    "\n",
    "\n",
    "Echo will have a prespecified data and if there is no data where will write 1 byte. We can append the data or we can overwite. Echo works like that:\n",
    "\n",
    "{\n",
    "    echo \"Some txt that the new will have in it\" >> [Name of the file].[the extention] // I am using the append method\n",
    "}"
   ]
  },
  {
   "cell_type": "code",
   "execution_count": null,
   "metadata": {
    "vscode": {
     "languageId": "shellscript"
    }
   },
   "outputs": [],
   "source": [
    "echo \"Some movies\" >> names.txt"
   ]
  },
  {
   "cell_type": "markdown",
   "metadata": {},
   "source": [
    "4. Question 4:\n",
    "\n",
    "Now we can move on to this question where we have to copy the content form names.txt to names1.txt, so we can use the cat command to perform this task."
   ]
  },
  {
   "cell_type": "code",
   "execution_count": null,
   "metadata": {
    "vscode": {
     "languageId": "shellscript"
    }
   },
   "outputs": [],
   "source": [
    "cat names.txt > names2.txt"
   ]
  },
  {
   "cell_type": "markdown",
   "metadata": {},
   "source": [
    "I overwite the file but you can use append as well"
   ]
  },
  {
   "cell_type": "markdown",
   "metadata": {},
   "source": [
    "5. Question 5:\n",
    "\n",
    "We have change the permissions of names.txt to have only write for user only and don't change for the others.\n",
    "\n",
    "We can perform this task by using chmod command:\n",
    "\n",
    "I will use the traditional way. We have user group and others and for everyone we have read write execute. I will perform ls -l command to be easy to understand:\n",
    "<br>\n",
    "\n",
    "![](figs/Screenshot%20from%202022-10-15%2010-26-45.png)"
   ]
  },
  {
   "cell_type": "markdown",
   "metadata": {},
   "source": [
    "d stands for the type of the file, d is a directory.\n",
    "\n",
    "for Algorithm directory we have: \n",
    "\n",
    "read,write,execute for user\n",
    "\n",
    "read,write,execute for group\n",
    "\n",
    "read and execute for others"
   ]
  },
  {
   "cell_type": "markdown",
   "metadata": {},
   "source": [
    "Now let we can add permissions using \"+\" or remove permissions using \"-\", but we can also overwite permissions using \"=\". And for each one we have to specify the the user, group, others. Like this:\n",
    "\n",
    "chmod u+r [name of the file]"
   ]
  },
  {
   "cell_type": "markdown",
   "metadata": {},
   "source": [
    "So let's do it for our task:"
   ]
  },
  {
   "cell_type": "code",
   "execution_count": null,
   "metadata": {
    "vscode": {
     "languageId": "shellscript"
    }
   },
   "outputs": [],
   "source": [
    "chmod u=w names.txt"
   ]
  },
  {
   "cell_type": "markdown",
   "metadata": {},
   "source": [
    "6. Question 6:\n",
    "\n",
    "Now we have to be careful because we have a hidden file that contains the history, this file is called \".bash_history\" nad we are not accessing directly this one because we are not using the terminal.\n",
    "\n",
    "Now we can use the cat command to copy the content of the hidden file into a new file called \"history_bash.txt\""
   ]
  },
  {
   "cell_type": "markdown",
   "metadata": {},
   "source": [
    "We have to be careful because now our current directory is \"DevOps\", which does not contain the hiden file. We hace to move to the root directory and from there we have to access the \".bash_history\".\n",
    "\n",
    "So let's perform the task:"
   ]
  },
  {
   "cell_type": "code",
   "execution_count": null,
   "metadata": {
    "vscode": {
     "languageId": "shellscript"
    }
   },
   "outputs": [],
   "source": [
    "cat ~/.bash_history > history_bash.txt"
   ]
  },
  {
   "cell_type": "markdown",
   "metadata": {},
   "source": [
    "That is all the question 7 tell as that the name of the file must be \"devops.sh\" and the script from abovemust be saved in the same directory called \"devops_bash\"."
   ]
  }
 ],
 "metadata": {
  "kernelspec": {
   "display_name": "Python 3.10.6 64-bit",
   "language": "python",
   "name": "python3"
  },
  "language_info": {
   "name": "python",
   "version": "3.10.6"
  },
  "orig_nbformat": 4,
  "vscode": {
   "interpreter": {
    "hash": "916dbcbb3f70747c44a77c7bcd40155683ae19c65e1c03b4aa3499c5328201f1"
   }
  }
 },
 "nbformat": 4,
 "nbformat_minor": 2
}
